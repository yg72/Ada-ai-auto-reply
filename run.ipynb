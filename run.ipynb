{
 "cells": [
  {
   "cell_type": "code",
   "execution_count": 1,
   "metadata": {},
   "outputs": [
    {
     "name": "stderr",
     "output_type": "stream",
     "text": [
      "INFO:root:Read JSON data from ./input/categories.json\n",
      "INFO:root:Read JSON data from ./input/categories.json\n"
     ]
    }
   ],
   "source": [
    "%load_ext autoreload\n",
    "%autoreload 2\n",
    "\n",
    "import logging\n",
    "logging.basicConfig(level=logging.INFO)\n",
    "from rexpand_pyutils_file import write_file\n",
    "\n",
    "from utils.conversation_data import load_conversation_data\n",
    "from utils.json import to_json_compatible\n",
    "from models.context import Context\n",
    "from nodes.orchestrator import orchestrate\n",
    "from models.workflow import State\n"
   ]
  },
  {
   "cell_type": "code",
   "execution_count": 2,
   "metadata": {},
   "outputs": [
    {
     "name": "stderr",
     "output_type": "stream",
     "text": [
      "INFO:root:Read sheet 'Result 1' from Excel file ./input/convo_2454_rows.xlsx\n",
      "INFO:root:Read EXCEL data from ./input/convo_2454_rows.xlsx with 2454 rows\n"
     ]
    }
   ],
   "source": [
    "# Load all conversations\n",
    "conversations = load_conversation_data('./input/convo_2454_rows.xlsx')\n"
   ]
  },
  {
   "cell_type": "code",
   "execution_count": 3,
   "metadata": {},
   "outputs": [
    {
     "name": "stderr",
     "output_type": "stream",
     "text": [
      "INFO:root:Wrote JSON data to ./output/current_messages.json\n"
     ]
    }
   ],
   "source": [
    "# Select a conversation to process\n",
    "index = 2\n",
    "messages_end = 5\n",
    "messages = conversations[index][:messages_end]\n",
    "context = Context(messages=messages)\n",
    "write_file('./output/current_messages.json', to_json_compatible(messages))\n"
   ]
  },
  {
   "cell_type": "code",
   "execution_count": 4,
   "metadata": {},
   "outputs": [
    {
     "name": "stderr",
     "output_type": "stream",
     "text": [
      "WARNING:root:File not found: ./.cache/33c19d20ca9ffb7a2db57028abbbe12e.json\n",
      "INFO:httpx:HTTP Request: POST https://api.openai.com/v1/responses \"HTTP/1.1 200 OK\"\n",
      "INFO:root:Wrote JSON data to ./.cache/33c19d20ca9ffb7a2db57028abbbe12e.json\n",
      "WARNING:root:File not found: ./.cache/465fe4f8b01701cea98b0a7f2d7d388e.json\n",
      "INFO:httpx:HTTP Request: POST https://api.openai.com/v1/responses \"HTTP/1.1 200 OK\"\n",
      "INFO:root:Wrote JSON data to ./.cache/465fe4f8b01701cea98b0a7f2d7d388e.json\n"
     ]
    },
    {
     "name": "stdout",
     "output_type": "stream",
     "text": [
      "next: select topics\n",
      "ClassifierResult(category='no_reply', confidence=0.9, reason=\"The job seeker has just replied to the referrer's request for more information about the referral by providing the job link and further explanation, but the referrer has not responded yet.\", referenced_message_ids=['fcf62787-5474-4ba4-a04d-0f7c5f9e9a5c'])\n",
      "TopicSuggesterResult(topics=[Topic(topic='Thank you', confidence=0.9, reason=\"The job seeker has expressed gratitude for the referrer's reply, which is polite and appropriate at this stage.\"), Topic(topic='Express interest', confidence=0.95, reason='The job seeker shows clear interest in the Junior Data Analyst position at EY and wants to pursue the opportunity.'), Topic(topic='Express background match', confidence=0.6, reason='Though the job seeker has not explicitly described their qualifications, implying interest and asking for referral suggests a potential match in background.'), Topic(topic='Ask for a brief call', confidence=0.7, reason='The job seeker could benefit from requesting a short call to discuss referral details and advice, since they asked for advice and internal referral opportunities.')])\n",
      "None\n",
      "None\n"
     ]
    }
   ],
   "source": [
    "# Fresh start. In this case, no human in the loop with topics suggested\n",
    "state = State(context=context)\n",
    "state = orchestrate(state)\n",
    "\n",
    "print(state.step)\n",
    "print(state.classified_category)\n",
    "print(state.suggested_topics)\n",
    "print(state.selected_topics)\n",
    "print(state.generated_reply_message)\n"
   ]
  },
  {
   "cell_type": "code",
   "execution_count": 5,
   "metadata": {},
   "outputs": [
    {
     "name": "stderr",
     "output_type": "stream",
     "text": [
      "WARNING:root:File not found: ./.cache/8279752a271e0fc52e61d9a8a8b10582.json\n",
      "INFO:httpx:HTTP Request: POST https://api.openai.com/v1/responses \"HTTP/1.1 200 OK\"\n",
      "INFO:root:Wrote JSON data to ./.cache/8279752a271e0fc52e61d9a8a8b10582.json\n"
     ]
    },
    {
     "name": "stdout",
     "output_type": "stream",
     "text": [
      "end: reply generated\n",
      "ClassifierResult(category='no_reply', confidence=0.9, reason=\"The job seeker has just replied to the referrer's request for more information about the referral by providing the job link and further explanation, but the referrer has not responded yet.\", referenced_message_ids=['fcf62787-5474-4ba4-a04d-0f7c5f9e9a5c'])\n",
      "TopicSuggesterResult(topics=[Topic(topic='Thank you', confidence=0.9, reason=\"The job seeker has expressed gratitude for the referrer's reply, which is polite and appropriate at this stage.\"), Topic(topic='Express interest', confidence=0.95, reason='The job seeker shows clear interest in the Junior Data Analyst position at EY and wants to pursue the opportunity.'), Topic(topic='Express background match', confidence=0.6, reason='Though the job seeker has not explicitly described their qualifications, implying interest and asking for referral suggests a potential match in background.'), Topic(topic='Ask for a brief call', confidence=0.7, reason='The job seeker could benefit from requesting a short call to discuss referral details and advice, since they asked for advice and internal referral opportunities.')])\n",
      "TopicSuggesterResult(topics=[Topic(topic='Thank you', confidence=0.9, reason=\"The job seeker has expressed gratitude for the referrer's reply, which is polite and appropriate at this stage.\"), Topic(topic='Express interest', confidence=0.95, reason='The job seeker shows clear interest in the Junior Data Analyst position at EY and wants to pursue the opportunity.'), Topic(topic='Express background match', confidence=0.6, reason='Though the job seeker has not explicitly described their qualifications, implying interest and asking for referral suggests a potential match in background.'), Topic(topic='Ask for a brief call', confidence=0.7, reason='The job seeker could benefit from requesting a short call to discuss referral details and advice, since they asked for advice and internal referral opportunities.')])\n",
      "MessageGeneratorResult(message='Hello Michael,\\n\\nThank you very much for your time and consideration. I am very interested in the Junior Data Analyst position at EY and believe my background in data analysis aligns well with the role. If possible, I would appreciate the opportunity to have a brief call with you to discuss the position further and to learn how I might be a strong candidate for a referral.\\n\\nLooking forward to your guidance.\\n\\nBest regards,\\nPatty', confidence=0.95, reason=\"The message continues the polite and professional tone of the conversation, expresses clear interest in the role, gently highlights a background match without overstating, and appropriately asks for a brief call to discuss further, which aligns well with the job seeker's goals and the referrer's previous request for more information.\")\n"
     ]
    }
   ],
   "source": [
    "# Continue with selecting all suggested topics to generate a reply\n",
    "state.selected_topics = state.suggested_topics\n",
    "state = orchestrate(state)\n",
    "\n",
    "print(state.step)\n",
    "print(state.classified_category)\n",
    "print(state.suggested_topics)\n",
    "print(state.selected_topics)\n",
    "print(state.generated_reply_message)\n"
   ]
  },
  {
   "cell_type": "code",
   "execution_count": null,
   "metadata": {},
   "outputs": [],
   "source": []
  }
 ],
 "metadata": {
  "kernelspec": {
   "display_name": ".venv",
   "language": "python",
   "name": "python3"
  },
  "language_info": {
   "codemirror_mode": {
    "name": "ipython",
    "version": 3
   },
   "file_extension": ".py",
   "mimetype": "text/x-python",
   "name": "python",
   "nbconvert_exporter": "python",
   "pygments_lexer": "ipython3",
   "version": "3.11.9"
  }
 },
 "nbformat": 4,
 "nbformat_minor": 2
}
